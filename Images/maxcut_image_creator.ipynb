{
 "cells": [
  {
   "cell_type": "markdown",
   "metadata": {},
   "source": [
    "This file contains some code used to generate images for my explanations"
   ]
  },
  {
   "cell_type": "code",
   "execution_count": 13,
   "metadata": {},
   "outputs": [],
   "source": [
    "import random\n",
    "from matplotlib import pyplot as plt\n",
    "import networkx as nx"
   ]
  },
  {
   "cell_type": "code",
   "execution_count": 15,
   "metadata": {},
   "outputs": [
    {
     "data": {
      "image/png": "[encoded data removed]",
      "text/plain": [
       "<Figure size 432x288 with 1 Axes>"
      ]
     },
     "metadata": {},
     "output_type": "display_data"
    }
   ],
   "source": [
    "def random_unweighted(num_nodes):\n",
    "    # Create a list of numbers up to the number of nodes, and shuffle it \n",
    "    nodes = list(range(num_nodes))\n",
    "    random.shuffle(nodes)\n",
    "    G = nx.Graph()\n",
    "    \n",
    "    for i in range(num_nodes-1):\n",
    "        G.add_edge(nodes[i], nodes[i+1])\n",
    "    \n",
    "    return G\n",
    "    \n",
    "linear_graph = random_unweighted(5)\n",
    "nx.draw(linear_graph, with_labels=True, font_weight='bold', font_color = \"white\")\n",
    "plt.savefig(\"LinearGraph.png\")"
   ]
  },
  {
   "cell_type": "code",
   "execution_count": null,
   "metadata": {},
   "outputs": [],
   "source": []
  }
 ],
 "metadata": {
  "kernelspec": {
   "display_name": "Python 3",
   "language": "python",
   "name": "python3"
  },
  "language_info": {
   "codemirror_mode": {
    "name": "ipython",
    "version": 3
   },
   "file_extension": ".py",
   "mimetype": "text/x-python",
   "name": "python",
   "nbconvert_exporter": "python",
   "pygments_lexer": "ipython3",
   "version": "3.8.5"
  }
 },
 "nbformat": 4,
 "nbformat_minor": 4
}
